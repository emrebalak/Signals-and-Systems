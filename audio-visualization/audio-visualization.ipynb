{
 "cells": [
  {
   "cell_type": "code",
   "execution_count": 1,
   "metadata": {},
   "outputs": [],
   "source": [
    "import numpy as np\n",
    "from scipy.io.wavfile import write, read\n",
    "import matplotlib\n",
    "matplotlib.use(\"Agg\")\n",
    "import matplotlib.pyplot as plt\n",
    "import cv2\n",
    "\n",
    "SAMPLE_RATE = 44100\n",
    "FPS = 10\n",
    "SONG_LENGTH = 83  # Seconds"
   ]
  },
  {
   "cell_type": "markdown",
   "metadata": {},
   "source": [
    "# PART 1 - Audio Visualization"
   ]
  },
  {
   "cell_type": "code",
   "execution_count": 2,
   "metadata": {},
   "outputs": [],
   "source": [
    "## Read song, take left stereo\n",
    "song = read(\"HW4_audio/SilentKnight.wav\")[1][:, 0]"
   ]
  },
  {
   "cell_type": "code",
   "execution_count": 3,
   "metadata": {},
   "outputs": [],
   "source": [
    "## The song is 82,2 seconds, round it to 83 \n",
    "## and pad audio array with zeros\n",
    "size = len(song)\n",
    "round_to_up = (int((size / SAMPLE_RATE + 1)) * SAMPLE_RATE)\n",
    "song = np.pad(song, (0, round_to_up - size), 'constant')"
   ]
  },
  {
   "cell_type": "code",
   "execution_count": 4,
   "metadata": {},
   "outputs": [],
   "source": [
    "## Split array for each seconds (83 splits for this example)\n",
    "vis_interval = np.split(song, round_to_up / SAMPLE_RATE)\n"
   ]
  },
  {
   "cell_type": "code",
   "execution_count": 5,
   "metadata": {},
   "outputs": [],
   "source": [
    "## Split each seconds for visualization (10 Frame per Second)\n",
    "for i in range(len(vis_interval)):\n",
    "    vis_interval[i] = np.split(vis_interval[i], FPS)  # 44100/4410"
   ]
  },
  {
   "cell_type": "code",
   "execution_count": 6,
   "metadata": {
    "scrolled": true
   },
   "outputs": [
    {
     "name": "stdout",
     "output_type": "stream",
     "text": [
      "Second(s): 1\n",
      "Second(s): 2\n",
      "Second(s): 3\n",
      "Second(s): 4\n",
      "Second(s): 5\n",
      "Second(s): 6\n",
      "Second(s): 7\n",
      "Second(s): 8\n",
      "Second(s): 9\n",
      "Second(s): 10\n",
      "Second(s): 11\n",
      "Second(s): 12\n",
      "Second(s): 13\n",
      "Second(s): 14\n",
      "Second(s): 15\n",
      "Second(s): 16\n",
      "Second(s): 17\n",
      "Second(s): 18\n",
      "Second(s): 19\n",
      "Second(s): 20\n",
      "Second(s): 21\n",
      "Second(s): 22\n",
      "Second(s): 23\n",
      "Second(s): 24\n",
      "Second(s): 25\n",
      "Second(s): 26\n",
      "Second(s): 27\n",
      "Second(s): 28\n",
      "Second(s): 29\n",
      "Second(s): 30\n",
      "Second(s): 31\n",
      "Second(s): 32\n",
      "Second(s): 33\n",
      "Second(s): 34\n",
      "Second(s): 35\n",
      "Second(s): 36\n",
      "Second(s): 37\n",
      "Second(s): 38\n",
      "Second(s): 39\n",
      "Second(s): 40\n",
      "Second(s): 41\n",
      "Second(s): 42\n",
      "Second(s): 43\n",
      "Second(s): 44\n",
      "Second(s): 45\n",
      "Second(s): 46\n",
      "Second(s): 47\n",
      "Second(s): 48\n",
      "Second(s): 49\n",
      "Second(s): 50\n",
      "Second(s): 51\n",
      "Second(s): 52\n",
      "Second(s): 53\n",
      "Second(s): 54\n",
      "Second(s): 55\n",
      "Second(s): 56\n",
      "Second(s): 57\n",
      "Second(s): 58\n",
      "Second(s): 59\n",
      "Second(s): 60\n",
      "Second(s): 61\n",
      "Second(s): 62\n",
      "Second(s): 63\n",
      "Second(s): 64\n",
      "Second(s): 65\n",
      "Second(s): 66\n",
      "Second(s): 67\n",
      "Second(s): 68\n",
      "Second(s): 69\n",
      "Second(s): 70\n",
      "Second(s): 71\n",
      "Second(s): 72\n",
      "Second(s): 73\n",
      "Second(s): 74\n",
      "Second(s): 75\n",
      "Second(s): 76\n",
      "Second(s): 77\n",
      "Second(s): 78\n",
      "Second(s): 79\n",
      "Second(s): 80\n",
      "Second(s): 81\n",
      "Second(s): 82\n",
      "Second(s): 83\n"
     ]
    }
   ],
   "source": [
    "## Create figure and axes\n",
    "fig, ax = plt.subplots(nrows=1, ncols=1, figsize=(10, 6))\n",
    "ax.get_xaxis().set_visible(False)\n",
    "ax.get_yaxis().set_visible(False)\n",
    "\n",
    "## Create cv2 object to visualization\n",
    "out = cv2.VideoWriter('outputs/output.avi', cv2.VideoWriter_fourcc(*'XVID'),\n",
    "                      FPS, (1000, 600))\n",
    "\n",
    "\n",
    "## Calculate each interval and create snapshot.\n",
    "for i in range(SONG_LENGTH):\n",
    "    for j in range(FPS):\n",
    "        dft = np.fft.fft(vis_interval[i][j])\n",
    "        dft = 10 * np.log10(abs(dft) + 0.001)\n",
    "        vis_interval[i][j] = dft\n",
    "        # Take a snapshot (Since it's mirrored take first half)\n",
    "        ax.plot(np.arange(1, 2206, 1), dft[:2205])\n",
    "        plt.savefig('outputs/snap.png', format='png')\n",
    "        ax.clear()\n",
    "        # Write to avi file\n",
    "        X = cv2.imread(\"outputs/snap.png\")\n",
    "        out.write(X)\n",
    "    # Print For progress\n",
    "    print(\"Second(s):\", i + 1)\n",
    "out.release()\n"
   ]
  },
  {
   "cell_type": "code",
   "execution_count": 7,
   "metadata": {
    "scrolled": true
   },
   "outputs": [
    {
     "name": "stderr",
     "output_type": "stream",
     "text": [
      "chunk:   5%|▍         | 82/1815 [00:00<00:02, 817.70it/s, now=None]"
     ]
    },
    {
     "name": "stdout",
     "output_type": "stream",
     "text": [
      "Moviepy - Building video outputs/part1_outputvideo.mp4.\n",
      "MoviePy - Writing audio in part1_outputvideoTEMP_MPY_wvf_snd.mp4\n"
     ]
    },
    {
     "name": "stderr",
     "output_type": "stream",
     "text": [
      "t:   1%|          | 9/830 [00:00<00:16, 49.74it/s, now=None]          "
     ]
    },
    {
     "name": "stdout",
     "output_type": "stream",
     "text": [
      "MoviePy - Done.\n",
      "Moviepy - Writing video outputs/part1_outputvideo.mp4\n",
      "\n"
     ]
    },
    {
     "name": "stderr",
     "output_type": "stream",
     "text": [
      "                                                              \r"
     ]
    },
    {
     "name": "stdout",
     "output_type": "stream",
     "text": [
      "Moviepy - Done !\n",
      "Moviepy - video ready outputs/part1_outputvideo.mp4\n"
     ]
    }
   ],
   "source": [
    "# Write the audio on the video\n",
    "import moviepy.editor as mpe\n",
    "my_clip = mpe.VideoFileClip('outputs/output.avi')\n",
    "audio_background = mpe.AudioFileClip('HW4_audio/SilentKnight.wav')\n",
    "final_clip = my_clip.set_audio(audio_background)\n",
    "final_clip.write_videofile(\n",
    "    'outputs/part1_outputvideo.mp4',\n",
    "    codec='libx264',\n",
    "    audio_codec='aac',\n",
    ")"
   ]
  }
 ],
 "metadata": {
  "kernelspec": {
   "display_name": "myenv",
   "language": "python",
   "name": "myenv"
  },
  "language_info": {
   "codemirror_mode": {
    "name": "ipython",
    "version": 3
   },
   "file_extension": ".py",
   "mimetype": "text/x-python",
   "name": "python",
   "nbconvert_exporter": "python",
   "pygments_lexer": "ipython3",
   "version": "3.7.7"
  }
 },
 "nbformat": 4,
 "nbformat_minor": 2
}
