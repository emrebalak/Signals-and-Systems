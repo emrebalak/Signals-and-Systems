{
 "cells": [
  {
   "cell_type": "code",
   "execution_count": 165,
   "metadata": {},
   "outputs": [],
   "source": [
    "import pandas as pd\n",
    "import numpy as np\n",
    "import matplotlib.pyplot as plt\n",
    "from scipy.io.wavfile import write, read\n",
    "import pywt\n",
    "import copy\n",
    "SAMPLE_RATE = 44100 "
   ]
  },
  {
   "cell_type": "code",
   "execution_count": 166,
   "metadata": {},
   "outputs": [],
   "source": [
    "def convolution(weights, noisy_leftspeaker):\n",
    "    temp_list = []\n",
    "    # TRAVERSE BY INCREMENTING ONE\n",
    "    for i in range(0, len(noisy_leftspeaker) - len(weights) + 1):\n",
    "        # SLICING\n",
    "        temp_list.append(np.sum( weights * noisy_leftspeaker[i : (i + len(weights))]))\n",
    "    tmp_arr = np.array(temp_list)\n",
    "    tmp_arr = np.insert(tmp_arr, 0,25)\n",
    "    tmp_arr = np.append(tmp_arr,0)\n",
    "    return tmp_arr\n",
    "\n",
    "\n",
    "def movingaverage (values, window):\n",
    "    weights = np.ones((1, window))/window\n",
    "    weights = weights[0,:]\n",
    "    sma = convolution(weights,values )\n",
    "    sma =  pd.DataFrame(sma.reshape(1, -1)[0], columns=['moving_avg'])\n",
    "    return sma\n",
    "\n",
    "\n",
    "def mse_calculator(true_arr, predicted_arr):\n",
    "\n",
    "    diff_arr = np.subtract(true_arr, predicted_arr)\n",
    "    squared_arr = np.square(diff_arr)\n",
    "    mse = squared_arr.mean()\n",
    "    return mse[0]\n",
    "\n",
    "\n",
    "def medfilt (x, k):\n",
    "    \"\"\"Apply a length-k median filter to a 1D array x.\n",
    "    Boundaries are extended by repeating endpoints.\n",
    "    \"\"\"\n",
    "    assert k % 2 == 1, \"Median filter length must be odd.\"\n",
    "    assert x.ndim == 1, \"Input must be one-dimensional.\"\n",
    "    k2 = (k - 1) // 2\n",
    "    y = np.zeros ((len (x), k), dtype=x.dtype)\n",
    "    y[:,k2] = x\n",
    "    for i in range (k2):\n",
    "        j = k2 - i\n",
    "        y[j:,i] = x[:-j]\n",
    "        y[:j,i] = x[0]\n",
    "        y[:-j,-(i+1)] = x[j:]\n",
    "        y[-j:,-(i+1)] = x[-1]\n",
    "        \n",
    "    median_filtered =  pd.DataFrame(np.median(y, axis=1).reshape(1, -1)[0], columns=['median_filt']) \n",
    "    return median_filtered\n",
    "\n",
    "def wavelet_transform(y, wave_func='db4', lv=4, m=1, n=4):\n",
    "    \"\"\"\n",
    "    y: Input Sequence;\n",
    "    lv: Decomposing Level；\n",
    "    wave_func: Function of Wavelet, 'db4' default；\n",
    "    m, n: Level of Threshold Processing\n",
    "    \"\"\"\n",
    "\n",
    "    # Decomposing\n",
    "    coeff = pywt.wavedec(y, wave_func, mode='sym',\n",
    "                         level=lv, axis=0)  # Decomposing by levels，cD is the details coefficient\n",
    "    sgn = lambda x: 1 if x > 0 else -1 if x < 0 else 0  # sgn function\n",
    "\n",
    "    # De-noising\n",
    "    # Soft Threshold Processing Method\n",
    "    for i in range(m, n + 1):\n",
    "        # Select m~n Levels of the wavelet coefficients，\n",
    "        # and no need to dispose the cA coefficients(approximation coefficients)\n",
    "        cD = coeff[i]\n",
    "        Tr = np.sqrt(2 * np.log2(len(cD)))  # Compute Threshold\n",
    "        for j in range(len(cD)):\n",
    "            if cD[j] >= Tr:\n",
    "                coeff[i][j] = sgn(cD[j]) * (np.abs(cD[j]) - Tr)  # Shrink to zero\n",
    "            else:\n",
    "                coeff[i][j] = 0  # Set to zero if smaller than threshold\n",
    "\n",
    "    # Reconstructing\n",
    "    coeffs = {}\n",
    "    for i in range(len(coeff)):\n",
    "        coeffs[i] = copy.deepcopy(coeff)\n",
    "        for j in range(len(coeff)):\n",
    "            if j != i:\n",
    "                coeffs[i][j] = np.zeros_like(coeff[j])\n",
    "\n",
    "    for i in range(len(coeff)):\n",
    "        coeff[i] = pywt.waverec(coeffs[i], wave_func)\n",
    "        if len(coeff[i]) > len(y):\n",
    "            coeff[i] = coeff[i][:-1]\n",
    "\n",
    "    denoised_y = np.sum(coeff, axis=0)\n",
    "\n",
    "    return denoised_y"
   ]
  },
  {
   "cell_type": "code",
   "execution_count": 167,
   "metadata": {},
   "outputs": [],
   "source": [
    "# Read wav file and turn into dataframe\n",
    "# Seems like it is stereo file, just take one side. I took Left speaker\n",
    "noisy_leftspeaker = np.array(read(\"suphi_noisy.wav\")[1][:, 0])\n",
    "noisy_signal = pd.DataFrame(noisy_leftspeaker.reshape(1, -1)[0], columns=['noisy_signal'])\n",
    "\n",
    "clean_left = np.array(read(\"suphi_clean.wav\")[1][:, 0])\n",
    "clean_signal =  pd.DataFrame(clean_left.reshape(1, -1)[0], columns=['clean_signal'])"
   ]
  },
  {
   "cell_type": "code",
   "execution_count": 168,
   "metadata": {},
   "outputs": [
    {
     "name": "stdout",
     "output_type": "stream",
     "text": [
      "38607.21621297842\n"
     ]
    }
   ],
   "source": [
    "wavelet_transform = pd.DataFrame(wavelet_transform(noisy_leftspeaker, lv=4, m=3, n=3), columns=['wavelet']) \n",
    "MSE = mse_calculator(wavelet_transform,clean_signal)\n",
    "print(MSE)\n"
   ]
  },
  {
   "cell_type": "code",
   "execution_count": 169,
   "metadata": {},
   "outputs": [
    {
     "name": "stdout",
     "output_type": "stream",
     "text": [
      "        moving_avg\n",
      "0        25.000000\n",
      "1        25.000000\n",
      "2        25.000000\n",
      "3       138.000000\n",
      "4       141.571429\n",
      "...            ...\n",
      "873688  -30.142857\n",
      "873689  -27.857143\n",
      "873690    0.000000\n",
      "873691    0.000000\n",
      "873692    0.000000\n",
      "\n",
      "[873693 rows x 1 columns]\n",
      "64148.119723675554\n"
     ]
    }
   ],
   "source": [
    "# Moving Average Filter and calculate MSE\n",
    "\n",
    "moving_avg = movingaverage(noisy_leftspeaker,7)\n",
    "print(moving_avg)\n",
    "MSE = mse_calculator(moving_avg,clean_signal)\n",
    "print(MSE)"
   ]
  },
  {
   "cell_type": "code",
   "execution_count": 170,
   "metadata": {},
   "outputs": [
    {
     "name": "stdout",
     "output_type": "stream",
     "text": [
      "28530.72426699081\n"
     ]
    }
   ],
   "source": [
    "# Moving Average Filter and calculate MSE\n",
    "\n",
    "median_filtered = medfilt(noisy_leftspeaker, 3)\n",
    "MSE = mse_calculator(median_filtered,clean_signal)\n",
    "print(MSE)"
   ]
  },
  {
   "cell_type": "code",
   "execution_count": 103,
   "metadata": {},
   "outputs": [
    {
     "data": {
      "text/plain": [
       "(570000, 570300)"
      ]
     },
     "execution_count": 103,
     "metadata": {},
     "output_type": "execute_result"
    },
    {
     "data": {
      "image/png": "[encoded data removed]",
      "text/plain": [
       "<Figure size 720x432 with 1 Axes>"
      ]
     },
     "metadata": {
      "needs_background": "light"
     },
     "output_type": "display_data"
    }
   ],
   "source": [
    "# Plotting noisy, filtered and clean signals\n",
    "\n",
    "fig, ax = plt.subplots(figsize=(10,6))\n",
    "moving_avg.plot(ax=ax)\n",
    "median_filtered.plot(ax=ax)\n",
    "noisy_signal.plot(ax=ax)\n",
    "clean_signal.plot(ax=ax)\n",
    "plt.ylim(-3000, 3000)\n",
    "plt.xlim(570000,570300)"
   ]
  },
  {
   "cell_type": "code",
   "execution_count": 123,
   "metadata": {},
   "outputs": [],
   "source": [
    "# turn denoised signal into wav file\n",
    "\n",
    "# copy left speaker to right speaker\n",
    "median_stereo = np.tile(median_filtered, (1, 2))\n",
    "movavg_stereo = np.tile(moving_avg, (1, 2))\n",
    "\n",
    "# write to wav\n",
    "write(\"median_denoised.wav\", SAMPLE_RATE, median_stereo)\n",
    "write(\"movavg_denoised.wav\", SAMPLE_RATE, movavg_stereo)"
   ]
  },
  {
   "cell_type": "code",
   "execution_count": 124,
   "metadata": {},
   "outputs": [],
   "source": [
    "# Turning output format to kaggle challenge format\n",
    "\n",
    "# copy left speaker to right speaker\n",
    "stereo = np.tile(median_filtered, (1, 2))\n",
    "\n",
    "# give column names and write to csv\n",
    "df = pd.DataFrame(stereo,columns=[\"Left\",\"Right\"])\n",
    "df.index.name='SampleID'\n",
    "df.to_csv('Challenge.csv', index=True)"
   ]
  }
 ],
 "metadata": {
  "kernelspec": {
   "display_name": "Python 3",
   "language": "python",
   "name": "python3"
  },
  "language_info": {
   "codemirror_mode": {
    "name": "ipython",
    "version": 3
   },
   "file_extension": ".py",
   "mimetype": "text/x-python",
   "name": "python",
   "nbconvert_exporter": "python",
   "pygments_lexer": "ipython3",
   "version": "3.7.3"
  }
 },
 "nbformat": 4,
 "nbformat_minor": 2
}
