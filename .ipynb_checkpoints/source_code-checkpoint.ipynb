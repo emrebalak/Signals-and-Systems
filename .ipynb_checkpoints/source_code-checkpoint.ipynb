{
 "cells": [
  {
   "cell_type": "code",
   "execution_count": 2,
   "metadata": {},
   "outputs": [],
   "source": [
    "import pandas as pd\n",
    "import numpy as np\n",
    "import matplotlib.pyplot as plt\n",
    "from scipy.io.wavfile import write, read\n",
    "import pywt\n",
    "import copy\n",
    "SAMPLE_RATE = 44100 "
   ]
  },
  {
   "cell_type": "code",
   "execution_count": 3,
   "metadata": {},
   "outputs": [],
   "source": [
    "def convolution(weights, noisy_leftspeaker):\n",
    "    temp_list = []\n",
    "    # TRAVERSE BY INCREMENTING ONE\n",
    "    for i in range(0, len(noisy_leftspeaker) - len(weights) + 1):\n",
    "        # SLICING\n",
    "        temp_list.append(np.sum( weights * noisy_leftspeaker[i : (i + len(weights))]))\n",
    "    tmp_arr = np.array(temp_list)\n",
    "    tmp_arr = np.insert(tmp_arr, 0,25)\n",
    "    tmp_arr = np.append(tmp_arr,0)\n",
    "    return tmp_arr\n",
    "\n",
    "\n",
    "def movingaverage (values, window):\n",
    "    weights = np.ones((1, window))/window\n",
    "    weights = weights[0,:]\n",
    "    sma = convolution(weights,values )\n",
    "    sma =  pd.DataFrame(sma.reshape(1, -1)[0], columns=['moving_avg'])\n",
    "    return sma\n",
    "\n",
    "\n",
    "def mse_calculator(true_arr, predicted_arr):\n",
    "\n",
    "    diff_arr = np.subtract(true_arr, predicted_arr)\n",
    "    squared_arr = np.square(diff_arr)\n",
    "    mse = squared_arr.mean()\n",
    "    return mse[0]\n",
    "\n",
    "\n",
    "def medfilt (x, k):\n",
    "    \"\"\"Apply a length-k median filter to a 1D array x.\n",
    "    Boundaries are extended by repeating endpoints.\n",
    "    \"\"\"\n",
    "    assert k % 2 == 1, \"Median filter length must be odd.\"\n",
    "    assert x.ndim == 1, \"Input must be one-dimensional.\"\n",
    "    k2 = (k - 1) // 2\n",
    "    y = np.zeros ((len (x), k), dtype=x.dtype)\n",
    "    y[:,k2] = x\n",
    "    for i in range (k2):\n",
    "        j = k2 - i\n",
    "        y[j:,i] = x[:-j]\n",
    "        y[:j,i] = x[0]\n",
    "        y[:-j,-(i+1)] = x[j:]\n",
    "        y[-j:,-(i+1)] = x[-1]\n",
    "        \n",
    "    median_filtered =  pd.DataFrame(np.median(y, axis=1).reshape(1, -1)[0], columns=['median_filt']) \n",
    "    return median_filtered\n",
    "\n",
    "def wavelet_transform(y, wave_func='db4', lv=4, m=1, n=4):\n",
    "    \"\"\"\n",
    "    y: Input Sequence;\n",
    "    lv: Decomposing Level；\n",
    "    wave_func: Function of Wavelet, 'db4' default；\n",
    "    m, n: Level of Threshold Processing\n",
    "    \"\"\"\n",
    "\n",
    "    # Decomposing\n",
    "    coeff = pywt.wavedec(y, wave_func, mode='sym',\n",
    "                         level=lv, axis=0)  # Decomposing by levels，cD is the details coefficient\n",
    "    sgn = lambda x: 1 if x > 0 else -1 if x < 0 else 0  # sgn function\n",
    "\n",
    "    # De-noising\n",
    "    # Soft Threshold Processing Method\n",
    "    for i in range(m, n + 1):\n",
    "        # Select m~n Levels of the wavelet coefficients，\n",
    "        # and no need to dispose the cA coefficients(approximation coefficients)\n",
    "        cD = coeff[i]\n",
    "        Tr = np.sqrt(2 * np.log2(len(cD)))  # Compute Threshold\n",
    "        for j in range(len(cD)):\n",
    "            if cD[j] >= Tr:\n",
    "                coeff[i][j] = sgn(cD[j]) * (np.abs(cD[j]) - Tr)  # Shrink to zero\n",
    "            else:\n",
    "                coeff[i][j] = 0  # Set to zero if smaller than threshold\n",
    "\n",
    "    # Reconstructing\n",
    "    coeffs = {}\n",
    "    for i in range(len(coeff)):\n",
    "        coeffs[i] = copy.deepcopy(coeff)\n",
    "        for j in range(len(coeff)):\n",
    "            if j != i:\n",
    "                coeffs[i][j] = np.zeros_like(coeff[j])\n",
    "\n",
    "    for i in range(len(coeff)):\n",
    "        coeff[i] = pywt.waverec(coeffs[i], wave_func)\n",
    "        if len(coeff[i]) > len(y):\n",
    "            coeff[i] = coeff[i][:-1]\n",
    "\n",
    "    denoised_y = np.sum(coeff, axis=0)\n",
    "\n",
    "    return denoised_y"
   ]
  },
  {
   "cell_type": "code",
   "execution_count": 4,
   "metadata": {},
   "outputs": [
    {
     "ename": "FileNotFoundError",
     "evalue": "[Errno 2] No such file or directory: 'suphi_noisy.wav'",
     "output_type": "error",
     "traceback": [
      "\u001b[0;31m---------------------------------------------------------------------------\u001b[0m",
      "\u001b[0;31mFileNotFoundError\u001b[0m                         Traceback (most recent call last)",
      "\u001b[0;32m<ipython-input-4-69351a120956>\u001b[0m in \u001b[0;36m<module>\u001b[0;34m\u001b[0m\n\u001b[1;32m      1\u001b[0m \u001b[0;31m# Read wav file and turn into dataframe\u001b[0m\u001b[0;34m\u001b[0m\u001b[0;34m\u001b[0m\u001b[0;34m\u001b[0m\u001b[0m\n\u001b[1;32m      2\u001b[0m \u001b[0;31m# Seems like it is stereo file, just take one side. I took Left speaker\u001b[0m\u001b[0;34m\u001b[0m\u001b[0;34m\u001b[0m\u001b[0;34m\u001b[0m\u001b[0m\n\u001b[0;32m----> 3\u001b[0;31m \u001b[0mnoisy_leftspeaker\u001b[0m \u001b[0;34m=\u001b[0m \u001b[0mnp\u001b[0m\u001b[0;34m.\u001b[0m\u001b[0marray\u001b[0m\u001b[0;34m(\u001b[0m\u001b[0mread\u001b[0m\u001b[0;34m(\u001b[0m\u001b[0;34m\"suphi_noisy.wav\"\u001b[0m\u001b[0;34m)\u001b[0m\u001b[0;34m[\u001b[0m\u001b[0;36m1\u001b[0m\u001b[0;34m]\u001b[0m\u001b[0;34m[\u001b[0m\u001b[0;34m:\u001b[0m\u001b[0;34m,\u001b[0m \u001b[0;36m0\u001b[0m\u001b[0;34m]\u001b[0m\u001b[0;34m)\u001b[0m\u001b[0;34m\u001b[0m\u001b[0;34m\u001b[0m\u001b[0m\n\u001b[0m\u001b[1;32m      4\u001b[0m \u001b[0mnoisy_signal\u001b[0m \u001b[0;34m=\u001b[0m \u001b[0mpd\u001b[0m\u001b[0;34m.\u001b[0m\u001b[0mDataFrame\u001b[0m\u001b[0;34m(\u001b[0m\u001b[0mnoisy_leftspeaker\u001b[0m\u001b[0;34m.\u001b[0m\u001b[0mreshape\u001b[0m\u001b[0;34m(\u001b[0m\u001b[0;36m1\u001b[0m\u001b[0;34m,\u001b[0m \u001b[0;34m-\u001b[0m\u001b[0;36m1\u001b[0m\u001b[0;34m)\u001b[0m\u001b[0;34m[\u001b[0m\u001b[0;36m0\u001b[0m\u001b[0;34m]\u001b[0m\u001b[0;34m,\u001b[0m \u001b[0mcolumns\u001b[0m\u001b[0;34m=\u001b[0m\u001b[0;34m[\u001b[0m\u001b[0;34m'noisy_signal'\u001b[0m\u001b[0;34m]\u001b[0m\u001b[0;34m)\u001b[0m\u001b[0;34m\u001b[0m\u001b[0;34m\u001b[0m\u001b[0m\n\u001b[1;32m      5\u001b[0m \u001b[0;34m\u001b[0m\u001b[0m\n",
      "\u001b[0;32m~/anaconda3/lib/python3.7/site-packages/scipy/io/wavfile.py\u001b[0m in \u001b[0;36mread\u001b[0;34m(filename, mmap)\u001b[0m\n\u001b[1;32m    231\u001b[0m         \u001b[0mmmap\u001b[0m \u001b[0;34m=\u001b[0m \u001b[0;32mFalse\u001b[0m\u001b[0;34m\u001b[0m\u001b[0;34m\u001b[0m\u001b[0m\n\u001b[1;32m    232\u001b[0m     \u001b[0;32melse\u001b[0m\u001b[0;34m:\u001b[0m\u001b[0;34m\u001b[0m\u001b[0;34m\u001b[0m\u001b[0m\n\u001b[0;32m--> 233\u001b[0;31m         \u001b[0mfid\u001b[0m \u001b[0;34m=\u001b[0m \u001b[0mopen\u001b[0m\u001b[0;34m(\u001b[0m\u001b[0mfilename\u001b[0m\u001b[0;34m,\u001b[0m \u001b[0;34m'rb'\u001b[0m\u001b[0;34m)\u001b[0m\u001b[0;34m\u001b[0m\u001b[0;34m\u001b[0m\u001b[0m\n\u001b[0m\u001b[1;32m    234\u001b[0m \u001b[0;34m\u001b[0m\u001b[0m\n\u001b[1;32m    235\u001b[0m     \u001b[0;32mtry\u001b[0m\u001b[0;34m:\u001b[0m\u001b[0;34m\u001b[0m\u001b[0;34m\u001b[0m\u001b[0m\n",
      "\u001b[0;31mFileNotFoundError\u001b[0m: [Errno 2] No such file or directory: 'suphi_noisy.wav'"
     ]
    }
   ],
   "source": [
    "# Read wav file and turn into dataframe\n",
    "# Seems like it is stereo file, just take one side. I took Left speaker\n",
    "noisy_leftspeaker = np.array(read(\"suphi_noisy.wav\")[1][:, 0])\n",
    "noisy_signal = pd.DataFrame(noisy_leftspeaker.reshape(1, -1)[0], columns=['noisy_signal'])\n",
    "\n",
    "clean_left = np.array(read(\"suphi_clean.wav\")[1][:, 0])\n",
    "clean_signal =  pd.DataFrame(clean_left.reshape(1, -1)[0], columns=['clean_signal'])"
   ]
  },
  {
   "cell_type": "code",
   "execution_count": 5,
   "metadata": {},
   "outputs": [
    {
     "ename": "NameError",
     "evalue": "name 'noisy_leftspeaker' is not defined",
     "output_type": "error",
     "traceback": [
      "\u001b[0;31m---------------------------------------------------------------------------\u001b[0m",
      "\u001b[0;31mNameError\u001b[0m                                 Traceback (most recent call last)",
      "\u001b[0;32m<ipython-input-5-41f8061b025b>\u001b[0m in \u001b[0;36m<module>\u001b[0;34m\u001b[0m\n\u001b[0;32m----> 1\u001b[0;31m \u001b[0mwavelet_transform\u001b[0m \u001b[0;34m=\u001b[0m \u001b[0mpd\u001b[0m\u001b[0;34m.\u001b[0m\u001b[0mDataFrame\u001b[0m\u001b[0;34m(\u001b[0m\u001b[0mwavelet_transform\u001b[0m\u001b[0;34m(\u001b[0m\u001b[0mnoisy_leftspeaker\u001b[0m\u001b[0;34m,\u001b[0m \u001b[0mlv\u001b[0m\u001b[0;34m=\u001b[0m\u001b[0;36m4\u001b[0m\u001b[0;34m,\u001b[0m \u001b[0mm\u001b[0m\u001b[0;34m=\u001b[0m\u001b[0;36m3\u001b[0m\u001b[0;34m,\u001b[0m \u001b[0mn\u001b[0m\u001b[0;34m=\u001b[0m\u001b[0;36m3\u001b[0m\u001b[0;34m)\u001b[0m\u001b[0;34m,\u001b[0m \u001b[0mcolumns\u001b[0m\u001b[0;34m=\u001b[0m\u001b[0;34m[\u001b[0m\u001b[0;34m'wavelet'\u001b[0m\u001b[0;34m]\u001b[0m\u001b[0;34m)\u001b[0m\u001b[0;34m\u001b[0m\u001b[0;34m\u001b[0m\u001b[0m\n\u001b[0m\u001b[1;32m      2\u001b[0m \u001b[0mMSE\u001b[0m \u001b[0;34m=\u001b[0m \u001b[0mmse_calculator\u001b[0m\u001b[0;34m(\u001b[0m\u001b[0mwavelet_transform\u001b[0m\u001b[0;34m,\u001b[0m\u001b[0mclean_signal\u001b[0m\u001b[0;34m)\u001b[0m\u001b[0;34m\u001b[0m\u001b[0;34m\u001b[0m\u001b[0m\n\u001b[1;32m      3\u001b[0m \u001b[0mprint\u001b[0m\u001b[0;34m(\u001b[0m\u001b[0mMSE\u001b[0m\u001b[0;34m)\u001b[0m\u001b[0;34m\u001b[0m\u001b[0;34m\u001b[0m\u001b[0m\n",
      "\u001b[0;31mNameError\u001b[0m: name 'noisy_leftspeaker' is not defined"
     ]
    }
   ],
   "source": [
    "wavelet_transform = pd.DataFrame(wavelet_transform(noisy_leftspeaker, lv=4, m=3, n=3), columns=['wavelet']) \n",
    "MSE = mse_calculator(wavelet_transform,clean_signal)\n",
    "print(MSE)\n"
   ]
  },
  {
   "cell_type": "code",
   "execution_count": 6,
   "metadata": {},
   "outputs": [
    {
     "ename": "NameError",
     "evalue": "name 'noisy_leftspeaker' is not defined",
     "output_type": "error",
     "traceback": [
      "\u001b[0;31m---------------------------------------------------------------------------\u001b[0m",
      "\u001b[0;31mNameError\u001b[0m                                 Traceback (most recent call last)",
      "\u001b[0;32m<ipython-input-6-e9b908d1f36a>\u001b[0m in \u001b[0;36m<module>\u001b[0;34m\u001b[0m\n\u001b[1;32m      1\u001b[0m \u001b[0;31m# Moving Average Filter and calculate MSE\u001b[0m\u001b[0;34m\u001b[0m\u001b[0;34m\u001b[0m\u001b[0;34m\u001b[0m\u001b[0m\n\u001b[1;32m      2\u001b[0m \u001b[0;34m\u001b[0m\u001b[0m\n\u001b[0;32m----> 3\u001b[0;31m \u001b[0mmoving_avg\u001b[0m \u001b[0;34m=\u001b[0m \u001b[0mmovingaverage\u001b[0m\u001b[0;34m(\u001b[0m\u001b[0mnoisy_leftspeaker\u001b[0m\u001b[0;34m,\u001b[0m\u001b[0;36m7\u001b[0m\u001b[0;34m)\u001b[0m\u001b[0;34m\u001b[0m\u001b[0;34m\u001b[0m\u001b[0m\n\u001b[0m\u001b[1;32m      4\u001b[0m \u001b[0mprint\u001b[0m\u001b[0;34m(\u001b[0m\u001b[0mmoving_avg\u001b[0m\u001b[0;34m)\u001b[0m\u001b[0;34m\u001b[0m\u001b[0;34m\u001b[0m\u001b[0m\n\u001b[1;32m      5\u001b[0m \u001b[0mMSE\u001b[0m \u001b[0;34m=\u001b[0m \u001b[0mmse_calculator\u001b[0m\u001b[0;34m(\u001b[0m\u001b[0mmoving_avg\u001b[0m\u001b[0;34m,\u001b[0m\u001b[0mclean_signal\u001b[0m\u001b[0;34m)\u001b[0m\u001b[0;34m\u001b[0m\u001b[0;34m\u001b[0m\u001b[0m\n",
      "\u001b[0;31mNameError\u001b[0m: name 'noisy_leftspeaker' is not defined"
     ]
    }
   ],
   "source": [
    "# Moving Average Filter and calculate MSE\n",
    "\n",
    "moving_avg = movingaverage(noisy_leftspeaker,7)\n",
    "print(moving_avg)\n",
    "MSE = mse_calculator(moving_avg,clean_signal)\n",
    "print(MSE)"
   ]
  },
  {
   "cell_type": "code",
   "execution_count": 7,
   "metadata": {},
   "outputs": [
    {
     "ename": "NameError",
     "evalue": "name 'noisy_leftspeaker' is not defined",
     "output_type": "error",
     "traceback": [
      "\u001b[0;31m---------------------------------------------------------------------------\u001b[0m",
      "\u001b[0;31mNameError\u001b[0m                                 Traceback (most recent call last)",
      "\u001b[0;32m<ipython-input-7-e36c56d991d3>\u001b[0m in \u001b[0;36m<module>\u001b[0;34m\u001b[0m\n\u001b[1;32m      1\u001b[0m \u001b[0;31m# Moving Average Filter and calculate MSE\u001b[0m\u001b[0;34m\u001b[0m\u001b[0;34m\u001b[0m\u001b[0;34m\u001b[0m\u001b[0m\n\u001b[1;32m      2\u001b[0m \u001b[0;34m\u001b[0m\u001b[0m\n\u001b[0;32m----> 3\u001b[0;31m \u001b[0mmedian_filtered\u001b[0m \u001b[0;34m=\u001b[0m \u001b[0mmedfilt\u001b[0m\u001b[0;34m(\u001b[0m\u001b[0mnoisy_leftspeaker\u001b[0m\u001b[0;34m,\u001b[0m \u001b[0;36m3\u001b[0m\u001b[0;34m)\u001b[0m\u001b[0;34m\u001b[0m\u001b[0;34m\u001b[0m\u001b[0m\n\u001b[0m\u001b[1;32m      4\u001b[0m \u001b[0mMSE\u001b[0m \u001b[0;34m=\u001b[0m \u001b[0mmse_calculator\u001b[0m\u001b[0;34m(\u001b[0m\u001b[0mmedian_filtered\u001b[0m\u001b[0;34m,\u001b[0m\u001b[0mclean_signal\u001b[0m\u001b[0;34m)\u001b[0m\u001b[0;34m\u001b[0m\u001b[0;34m\u001b[0m\u001b[0m\n\u001b[1;32m      5\u001b[0m \u001b[0mprint\u001b[0m\u001b[0;34m(\u001b[0m\u001b[0mMSE\u001b[0m\u001b[0;34m)\u001b[0m\u001b[0;34m\u001b[0m\u001b[0;34m\u001b[0m\u001b[0m\n",
      "\u001b[0;31mNameError\u001b[0m: name 'noisy_leftspeaker' is not defined"
     ]
    }
   ],
   "source": [
    "# Moving Average Filter and calculate MSE\n",
    "\n",
    "median_filtered = medfilt(noisy_leftspeaker, 3)\n",
    "MSE = mse_calculator(median_filtered,clean_signal)\n",
    "print(MSE)"
   ]
  },
  {
   "cell_type": "code",
   "execution_count": 8,
   "metadata": {},
   "outputs": [
    {
     "ename": "NameError",
     "evalue": "name 'moving_avg' is not defined",
     "output_type": "error",
     "traceback": [
      "\u001b[0;31m---------------------------------------------------------------------------\u001b[0m",
      "\u001b[0;31mNameError\u001b[0m                                 Traceback (most recent call last)",
      "\u001b[0;32m<ipython-input-8-f5250c87a21a>\u001b[0m in \u001b[0;36m<module>\u001b[0;34m\u001b[0m\n\u001b[1;32m      2\u001b[0m \u001b[0;34m\u001b[0m\u001b[0m\n\u001b[1;32m      3\u001b[0m \u001b[0mfig\u001b[0m\u001b[0;34m,\u001b[0m \u001b[0max\u001b[0m \u001b[0;34m=\u001b[0m \u001b[0mplt\u001b[0m\u001b[0;34m.\u001b[0m\u001b[0msubplots\u001b[0m\u001b[0;34m(\u001b[0m\u001b[0mfigsize\u001b[0m\u001b[0;34m=\u001b[0m\u001b[0;34m(\u001b[0m\u001b[0;36m10\u001b[0m\u001b[0;34m,\u001b[0m\u001b[0;36m6\u001b[0m\u001b[0;34m)\u001b[0m\u001b[0;34m)\u001b[0m\u001b[0;34m\u001b[0m\u001b[0;34m\u001b[0m\u001b[0m\n\u001b[0;32m----> 4\u001b[0;31m \u001b[0mmoving_avg\u001b[0m\u001b[0;34m.\u001b[0m\u001b[0mplot\u001b[0m\u001b[0;34m(\u001b[0m\u001b[0max\u001b[0m\u001b[0;34m=\u001b[0m\u001b[0max\u001b[0m\u001b[0;34m)\u001b[0m\u001b[0;34m\u001b[0m\u001b[0;34m\u001b[0m\u001b[0m\n\u001b[0m\u001b[1;32m      5\u001b[0m \u001b[0mmedian_filtered\u001b[0m\u001b[0;34m.\u001b[0m\u001b[0mplot\u001b[0m\u001b[0;34m(\u001b[0m\u001b[0max\u001b[0m\u001b[0;34m=\u001b[0m\u001b[0max\u001b[0m\u001b[0;34m)\u001b[0m\u001b[0;34m\u001b[0m\u001b[0;34m\u001b[0m\u001b[0m\n\u001b[1;32m      6\u001b[0m \u001b[0mnoisy_signal\u001b[0m\u001b[0;34m.\u001b[0m\u001b[0mplot\u001b[0m\u001b[0;34m(\u001b[0m\u001b[0max\u001b[0m\u001b[0;34m=\u001b[0m\u001b[0max\u001b[0m\u001b[0;34m)\u001b[0m\u001b[0;34m\u001b[0m\u001b[0;34m\u001b[0m\u001b[0m\n",
      "\u001b[0;31mNameError\u001b[0m: name 'moving_avg' is not defined"
     ]
    },
    {
     "data": {
      "image/png": "[encoded data removed]",
      "text/plain": [
       "<Figure size 720x432 with 1 Axes>"
      ]
     },
     "metadata": {
      "needs_background": "light"
     },
     "output_type": "display_data"
    }
   ],
   "source": [
    "# Plotting noisy, filtered and clean signals\n",
    "\n",
    "fig, ax = plt.subplots(figsize=(10,6))\n",
    "moving_avg.plot(ax=ax)\n",
    "median_filtered.plot(ax=ax)\n",
    "noisy_signal.plot(ax=ax)\n",
    "clean_signal.plot(ax=ax)\n",
    "plt.ylim(-3000, 3000)\n",
    "plt.xlim(570000,570300)"
   ]
  },
  {
   "cell_type": "code",
   "execution_count": 9,
   "metadata": {},
   "outputs": [
    {
     "ename": "NameError",
     "evalue": "name 'median_filtered' is not defined",
     "output_type": "error",
     "traceback": [
      "\u001b[0;31m---------------------------------------------------------------------------\u001b[0m",
      "\u001b[0;31mNameError\u001b[0m                                 Traceback (most recent call last)",
      "\u001b[0;32m<ipython-input-9-92041ad57c9c>\u001b[0m in \u001b[0;36m<module>\u001b[0;34m\u001b[0m\n\u001b[1;32m      2\u001b[0m \u001b[0;34m\u001b[0m\u001b[0m\n\u001b[1;32m      3\u001b[0m \u001b[0;31m# copy left speaker to right speaker\u001b[0m\u001b[0;34m\u001b[0m\u001b[0;34m\u001b[0m\u001b[0;34m\u001b[0m\u001b[0m\n\u001b[0;32m----> 4\u001b[0;31m \u001b[0mmedian_stereo\u001b[0m \u001b[0;34m=\u001b[0m \u001b[0mnp\u001b[0m\u001b[0;34m.\u001b[0m\u001b[0mtile\u001b[0m\u001b[0;34m(\u001b[0m\u001b[0mmedian_filtered\u001b[0m\u001b[0;34m,\u001b[0m \u001b[0;34m(\u001b[0m\u001b[0;36m1\u001b[0m\u001b[0;34m,\u001b[0m \u001b[0;36m2\u001b[0m\u001b[0;34m)\u001b[0m\u001b[0;34m)\u001b[0m\u001b[0;34m\u001b[0m\u001b[0;34m\u001b[0m\u001b[0m\n\u001b[0m\u001b[1;32m      5\u001b[0m \u001b[0mmovavg_stereo\u001b[0m \u001b[0;34m=\u001b[0m \u001b[0mnp\u001b[0m\u001b[0;34m.\u001b[0m\u001b[0mtile\u001b[0m\u001b[0;34m(\u001b[0m\u001b[0mmoving_avg\u001b[0m\u001b[0;34m,\u001b[0m \u001b[0;34m(\u001b[0m\u001b[0;36m1\u001b[0m\u001b[0;34m,\u001b[0m \u001b[0;36m2\u001b[0m\u001b[0;34m)\u001b[0m\u001b[0;34m)\u001b[0m\u001b[0;34m\u001b[0m\u001b[0;34m\u001b[0m\u001b[0m\n\u001b[1;32m      6\u001b[0m \u001b[0;34m\u001b[0m\u001b[0m\n",
      "\u001b[0;31mNameError\u001b[0m: name 'median_filtered' is not defined"
     ]
    }
   ],
   "source": [
    "# turn denoised signal into wav file\n",
    "\n",
    "# copy left speaker to right speaker\n",
    "median_stereo = np.tile(median_filtered, (1, 2))\n",
    "movavg_stereo = np.tile(moving_avg, (1, 2))\n",
    "\n",
    "# write to wav\n",
    "write(\"median_denoised.wav\", SAMPLE_RATE, median_stereo)\n",
    "write(\"movavg_denoised.wav\", SAMPLE_RATE, movavg_stereo)"
   ]
  },
  {
   "cell_type": "code",
   "execution_count": 10,
   "metadata": {},
   "outputs": [
    {
     "ename": "NameError",
     "evalue": "name 'median_filtered' is not defined",
     "output_type": "error",
     "traceback": [
      "\u001b[0;31m---------------------------------------------------------------------------\u001b[0m",
      "\u001b[0;31mNameError\u001b[0m                                 Traceback (most recent call last)",
      "\u001b[0;32m<ipython-input-10-d32df3df87c0>\u001b[0m in \u001b[0;36m<module>\u001b[0;34m\u001b[0m\n\u001b[1;32m      2\u001b[0m \u001b[0;34m\u001b[0m\u001b[0m\n\u001b[1;32m      3\u001b[0m \u001b[0;31m# copy left speaker to right speaker\u001b[0m\u001b[0;34m\u001b[0m\u001b[0;34m\u001b[0m\u001b[0;34m\u001b[0m\u001b[0m\n\u001b[0;32m----> 4\u001b[0;31m \u001b[0mstereo\u001b[0m \u001b[0;34m=\u001b[0m \u001b[0mnp\u001b[0m\u001b[0;34m.\u001b[0m\u001b[0mtile\u001b[0m\u001b[0;34m(\u001b[0m\u001b[0mmedian_filtered\u001b[0m\u001b[0;34m,\u001b[0m \u001b[0;34m(\u001b[0m\u001b[0;36m1\u001b[0m\u001b[0;34m,\u001b[0m \u001b[0;36m2\u001b[0m\u001b[0;34m)\u001b[0m\u001b[0;34m)\u001b[0m\u001b[0;34m\u001b[0m\u001b[0;34m\u001b[0m\u001b[0m\n\u001b[0m\u001b[1;32m      5\u001b[0m \u001b[0;34m\u001b[0m\u001b[0m\n\u001b[1;32m      6\u001b[0m \u001b[0;31m# give column names and write to csv\u001b[0m\u001b[0;34m\u001b[0m\u001b[0;34m\u001b[0m\u001b[0;34m\u001b[0m\u001b[0m\n",
      "\u001b[0;31mNameError\u001b[0m: name 'median_filtered' is not defined"
     ]
    }
   ],
   "source": [
    "# Turning output format to kaggle challenge format\n",
    "\n",
    "# copy left speaker to right speaker\n",
    "stereo = np.tile(median_filtered, (1, 2))\n",
    "\n",
    "# give column names and write to csv\n",
    "df = pd.DataFrame(stereo,columns=[\"Left\",\"Right\"])\n",
    "df.index.name='SampleID'\n",
    "df.to_csv('Challenge.csv', index=True)"
   ]
  }
 ],
 "metadata": {
  "kernelspec": {
   "display_name": "Python 3",
   "language": "python",
   "name": "python3"
  },
  "language_info": {
   "codemirror_mode": {
    "name": "ipython",
    "version": 3
   },
   "file_extension": ".py",
   "mimetype": "text/x-python",
   "name": "python",
   "nbconvert_exporter": "python",
   "pygments_lexer": "ipython3",
   "version": "3.7.3"
  }
 },
 "nbformat": 4,
 "nbformat_minor": 2
}
